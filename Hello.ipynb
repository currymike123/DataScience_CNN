{
 "cells": [
  {
   "cell_type": "code",
   "execution_count": 6,
   "source": [
    "#Imports\n",
    "# import matplotlib.pyplot as plt\n",
    "# from matplotlib import gridspec\n",
    "# import tensorflow as tf \n",
    "# from tensorflow.keras.preprocessing import image_dataset_from_directory\n",
    "# import numpy as np\n",
    "import os, warnings\n",
    "import matplotlib.pyplot as plt\n",
    "from matplotlib import gridspec\n",
    "\n",
    "import numpy as np\n",
    "import tensorflow as tf\n",
    "from tensorflow.keras.preprocessing import image_dataset_from_directory\n",
    "print(tf.__version__)\n"
   ],
   "outputs": [
    {
     "output_type": "stream",
     "name": "stdout",
     "text": [
      "2.6.0\n"
     ]
    }
   ],
   "metadata": {}
  },
  {
   "cell_type": "markdown",
   "source": [
    "My First Visual Studio Code, Tensorflow, & Jupyter Notebook Project\n",
    "\n",
    "Code copied from https://www.kaggle.com/ryanholbrook/custom-convnets"
   ],
   "metadata": {}
  },
  {
   "cell_type": "code",
   "execution_count": 7,
   "source": [
    "\n",
    "# Reproducability\n",
    "def set_seed(seed=31415):\n",
    "    np.random.seed(seed)\n",
    "    tf.random.set_seed(seed)\n",
    "    os.environ['PYTHONHASHSEED'] = str(seed)\n",
    "    os.environ['TF_DETERMINISTIC_OPS'] = '1'\n",
    "set_seed()\n",
    "\n",
    "# Set Matplotlib defaults\n",
    "plt.rc('figure', autolayout=True)\n",
    "plt.rc('axes', labelweight='bold', labelsize='large',\n",
    "       titleweight='bold', titlesize=18, titlepad=10)\n",
    "plt.rc('image', cmap='magma')\n",
    "\n",
    "\n",
    "\n",
    "# Load training and validation sets\n",
    "ds_train_ = tf.keras.preprocessing.image_dataset_from_directory(\n",
    "    './car_truck/train',\n",
    "    labels='inferred',\n",
    "    label_mode='binary',\n",
    "    image_size=[128, 128],\n",
    "    interpolation='nearest',\n",
    "    batch_size=64,\n",
    "    shuffle=True,\n",
    ")\n",
    "ds_valid_ = tf.keras.preprocessing.image_dataset_from_directory(\n",
    "    './car_truck/valid',\n",
    "    labels='inferred',\n",
    "    label_mode='binary',\n",
    "    image_size=[128, 128],\n",
    "    interpolation='nearest',\n",
    "    batch_size=64,\n",
    "    shuffle=False,\n",
    ")\n",
    "\n",
    "# Data Pipeline\n",
    "def convert_to_float(image, label):\n",
    "    image = tf.image.convert_image_dtype(image, dtype=tf.float32)\n",
    "    return image, label\n",
    "\n",
    "AUTOTUNE = tf.data.experimental.AUTOTUNE\n",
    "ds_train = (\n",
    "    ds_train_\n",
    "    .map(convert_to_float)\n",
    "    .cache()\n",
    "    .prefetch(buffer_size=AUTOTUNE)\n",
    ")\n",
    "ds_valid = (\n",
    "    ds_valid_\n",
    "    .map(convert_to_float)\n",
    "    .cache()\n",
    "    .prefetch(buffer_size=AUTOTUNE)\n",
    ")"
   ],
   "outputs": [
    {
     "output_type": "stream",
     "name": "stdout",
     "text": [
      "Found 5117 files belonging to 2 classes.\n",
      "Found 5051 files belonging to 2 classes.\n"
     ]
    }
   ],
   "metadata": {}
  },
  {
   "cell_type": "markdown",
   "source": [
    "Load Pretrained Base"
   ],
   "metadata": {}
  },
  {
   "cell_type": "code",
   "execution_count": 8,
   "source": [
    "pretrained_base = tf.keras.applications.VGG16(\n",
    "    include_top=False,\n",
    "    weights=\"imagenet\",\n",
    "    input_tensor=None,\n",
    "    input_shape=[128,128,3],\n",
    "    pooling=None,\n",
    "    classes=1000,\n",
    "    classifier_activation=\"softmax\",\n",
    ")\n",
    "pretrained_base.trainable = False"
   ],
   "outputs": [],
   "metadata": {}
  },
  {
   "cell_type": "markdown",
   "source": [
    "Attach Head"
   ],
   "metadata": {}
  },
  {
   "cell_type": "code",
   "execution_count": 9,
   "source": [
    "from tensorflow import keras\n",
    "from tensorflow.keras import layers\n",
    "\n",
    "model = keras.Sequential([\n",
    "    pretrained_base,\n",
    "    layers.Flatten(),\n",
    "    layers.Dense(6, activation='relu'),\n",
    "    layers.Dense(1, activation='sigmoid'),\n",
    "])"
   ],
   "outputs": [],
   "metadata": {}
  },
  {
   "cell_type": "markdown",
   "source": [
    "Train"
   ],
   "metadata": {}
  },
  {
   "cell_type": "code",
   "execution_count": 10,
   "source": [
    "model.compile(\n",
    "    optimizer='adam',\n",
    "    loss='binary_crossentropy',\n",
    "    metrics=['binary_accuracy'],\n",
    ")\n",
    "\n",
    "history = model.fit(\n",
    "    ds_train,\n",
    "    validation_data=ds_valid,\n",
    "    epochs=30,\n",
    "    verbose=1,\n",
    ")"
   ],
   "outputs": [
    {
     "output_type": "stream",
     "name": "stdout",
     "text": [
      "Epoch 1/30\n",
      "80/80 [==============================] - 483s 6s/step - loss: 0.4753 - binary_accuracy: 0.7727 - val_loss: 0.3734 - val_binary_accuracy: 0.8388\n",
      "Epoch 2/30\n",
      "80/80 [==============================] - 383s 5s/step - loss: 0.3473 - binary_accuracy: 0.8526 - val_loss: 0.3396 - val_binary_accuracy: 0.8557\n",
      "Epoch 3/30\n",
      "80/80 [==============================] - 347s 4s/step - loss: 0.2982 - binary_accuracy: 0.8802 - val_loss: 0.3265 - val_binary_accuracy: 0.8626\n",
      "Epoch 4/30\n",
      "80/80 [==============================] - 353s 4s/step - loss: 0.2643 - binary_accuracy: 0.8974 - val_loss: 0.3210 - val_binary_accuracy: 0.8662\n",
      "Epoch 5/30\n",
      "80/80 [==============================] - 366s 5s/step - loss: 0.2381 - binary_accuracy: 0.9103 - val_loss: 0.3176 - val_binary_accuracy: 0.8658\n",
      "Epoch 6/30\n",
      "80/80 [==============================] - 369s 5s/step - loss: 0.2167 - binary_accuracy: 0.9226 - val_loss: 0.3139 - val_binary_accuracy: 0.8683\n",
      "Epoch 7/30\n",
      "80/80 [==============================] - 345s 4s/step - loss: 0.1993 - binary_accuracy: 0.9324 - val_loss: 0.3086 - val_binary_accuracy: 0.8735\n",
      "Epoch 8/30\n",
      "80/80 [==============================] - 331s 4s/step - loss: 0.1859 - binary_accuracy: 0.9369 - val_loss: 0.3055 - val_binary_accuracy: 0.8729\n",
      "Epoch 9/30\n",
      "80/80 [==============================] - 332s 4s/step - loss: 0.1783 - binary_accuracy: 0.9384 - val_loss: 0.3178 - val_binary_accuracy: 0.8676\n",
      "Epoch 10/30\n",
      "80/80 [==============================] - 332s 4s/step - loss: 0.1842 - binary_accuracy: 0.9318 - val_loss: 0.3728 - val_binary_accuracy: 0.8483\n",
      "Epoch 11/30\n",
      "80/80 [==============================] - 334s 4s/step - loss: 0.2154 - binary_accuracy: 0.9054 - val_loss: 0.3306 - val_binary_accuracy: 0.8672\n",
      "Epoch 12/30\n",
      "80/80 [==============================] - 333s 4s/step - loss: 0.1921 - binary_accuracy: 0.9209 - val_loss: 0.3655 - val_binary_accuracy: 0.8521\n",
      "Epoch 13/30\n",
      "80/80 [==============================] - 333s 4s/step - loss: 0.1767 - binary_accuracy: 0.9296 - val_loss: 0.3414 - val_binary_accuracy: 0.8638\n",
      "Epoch 14/30\n",
      "80/80 [==============================] - 333s 4s/step - loss: 0.1673 - binary_accuracy: 0.9312 - val_loss: 0.3272 - val_binary_accuracy: 0.8743\n",
      "Epoch 15/30\n",
      "80/80 [==============================] - 334s 4s/step - loss: 0.1384 - binary_accuracy: 0.9461 - val_loss: 0.3656 - val_binary_accuracy: 0.8582\n",
      "Epoch 16/30\n",
      "80/80 [==============================] - 321s 4s/step - loss: 0.1123 - binary_accuracy: 0.9638 - val_loss: 0.3831 - val_binary_accuracy: 0.8541\n",
      "Epoch 17/30\n",
      "80/80 [==============================] - 318s 4s/step - loss: 0.0949 - binary_accuracy: 0.9738 - val_loss: 0.3864 - val_binary_accuracy: 0.8525\n",
      "Epoch 18/30\n",
      "80/80 [==============================] - 336s 4s/step - loss: 0.0839 - binary_accuracy: 0.9814 - val_loss: 0.3887 - val_binary_accuracy: 0.8529\n",
      "Epoch 19/30\n",
      "80/80 [==============================] - 336s 4s/step - loss: 0.0759 - binary_accuracy: 0.9842 - val_loss: 0.3918 - val_binary_accuracy: 0.8547\n",
      "Epoch 20/30\n",
      "80/80 [==============================] - 336s 4s/step - loss: 0.0694 - binary_accuracy: 0.9867 - val_loss: 0.3956 - val_binary_accuracy: 0.8539\n",
      "Epoch 21/30\n",
      "80/80 [==============================] - 336s 4s/step - loss: 0.0640 - binary_accuracy: 0.9883 - val_loss: 0.3998 - val_binary_accuracy: 0.8551\n",
      "Epoch 22/30\n",
      "80/80 [==============================] - 337s 4s/step - loss: 0.0593 - binary_accuracy: 0.9894 - val_loss: 0.4049 - val_binary_accuracy: 0.8553\n",
      "Epoch 23/30\n",
      "80/80 [==============================] - 337s 4s/step - loss: 0.0551 - binary_accuracy: 0.9920 - val_loss: 0.4102 - val_binary_accuracy: 0.8553\n",
      "Epoch 24/30\n",
      "80/80 [==============================] - 336s 4s/step - loss: 0.0513 - binary_accuracy: 0.9928 - val_loss: 0.4158 - val_binary_accuracy: 0.8557\n",
      "Epoch 25/30\n",
      "80/80 [==============================] - 337s 4s/step - loss: 0.0480 - binary_accuracy: 0.9943 - val_loss: 0.4217 - val_binary_accuracy: 0.8545\n",
      "Epoch 26/30\n",
      "80/80 [==============================] - 337s 4s/step - loss: 0.0451 - binary_accuracy: 0.9953 - val_loss: 0.4284 - val_binary_accuracy: 0.8535\n",
      "Epoch 27/30\n",
      "80/80 [==============================] - 336s 4s/step - loss: 0.0426 - binary_accuracy: 0.9955 - val_loss: 0.4364 - val_binary_accuracy: 0.8547\n",
      "Epoch 28/30\n",
      "80/80 [==============================] - 336s 4s/step - loss: 0.0406 - binary_accuracy: 0.9961 - val_loss: 0.4458 - val_binary_accuracy: 0.8541\n",
      "Epoch 29/30\n",
      "80/80 [==============================] - 337s 4s/step - loss: 0.0390 - binary_accuracy: 0.9965 - val_loss: 0.4572 - val_binary_accuracy: 0.8541\n",
      "Epoch 30/30\n",
      "80/80 [==============================] - 337s 4s/step - loss: 0.0379 - binary_accuracy: 0.9973 - val_loss: 0.4698 - val_binary_accuracy: 0.8529\n"
     ]
    }
   ],
   "metadata": {}
  },
  {
   "cell_type": "code",
   "execution_count": 11,
   "source": [
    "import pandas as pd\n",
    "\n",
    "history_frame = pd.DataFrame(history.history)\n",
    "history_frame.loc[:, ['loss', 'val_loss']].plot()\n",
    "history_frame.loc[:, ['binary_accuracy', 'val_binary_accuracy']].plot();\n"
   ],
   "outputs": [
    {
     "output_type": "display_data",
     "data": {
      "image/png": "[encoded data removed]",
      "text/plain": [
       "<Figure size 432x288 with 1 Axes>"
      ]
     },
     "metadata": {
      "needs_background": "light"
     }
    },
    {
     "output_type": "display_data",
     "data": {
      "image/png": "[encoded data removed]",
      "text/plain": [
       "<Figure size 432x288 with 1 Axes>"
      ]
     },
     "metadata": {
      "needs_background": "light"
     }
    }
   ],
   "metadata": {}
  }
 ],
 "metadata": {
  "orig_nbformat": 4,
  "language_info": {
   "name": "python",
   "version": "3.7.11",
   "mimetype": "text/x-python",
   "codemirror_mode": {
    "name": "ipython",
    "version": 3
   },
   "pygments_lexer": "ipython3",
   "nbconvert_exporter": "python",
   "file_extension": ".py"
  },
  "kernelspec": {
   "name": "python3",
   "display_name": "Python 3.7.11 64-bit ('myenv': conda)"
  },
  "interpreter": {
   "hash": "f5c9dfabb21bd2a91b63810df81acbdc6b5e617e45414f0ef050ca96090c868f"
  }
 },
 "nbformat": 4,
 "nbformat_minor": 2
}