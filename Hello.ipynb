{
 "cells": [
  {
   "cell_type": "code",
   "execution_count": 24,
   "source": [
    "#Imports\n",
    "# import matplotlib.pyplot as plt\n",
    "# from matplotlib import gridspec\n",
    "# import tensorflow as tf \n",
    "# from tensorflow.keras.preprocessing import image_dataset_from_directory\n",
    "# import numpy as np\n",
    "import os, warnings\n",
    "import matplotlib.pyplot as plt\n",
    "from matplotlib import gridspec\n",
    "\n",
    "import numpy as np\n",
    "import tensorflow as tf\n",
    "from tensorflow.keras.preprocessing import image_dataset_from_directory\n",
    "from tensorflow import keras\n",
    "from tensorflow.keras import layers, callbacks\n",
    "print(tf.__version__)\n"
   ],
   "outputs": [
    {
     "output_type": "stream",
     "name": "stdout",
     "text": [
      "2.6.0\n"
     ]
    }
   ],
   "metadata": {}
  },
  {
   "cell_type": "markdown",
   "source": [
    "My First Visual Studio Code, Tensorflow, & Jupyter Notebook Project\n",
    "\n",
    "Code copied from https://www.kaggle.com/ryanholbrook/custom-convnets"
   ],
   "metadata": {}
  },
  {
   "cell_type": "code",
   "execution_count": 25,
   "source": [
    "\n",
    "# Reproducability\n",
    "def set_seed(seed=31415):\n",
    "    np.random.seed(seed)\n",
    "    tf.random.set_seed(seed)\n",
    "    os.environ['PYTHONHASHSEED'] = str(seed)\n",
    "    os.environ['TF_DETERMINISTIC_OPS'] = '1'\n",
    "set_seed()\n",
    "\n",
    "# Set Matplotlib defaults\n",
    "plt.rc('figure', autolayout=True)\n",
    "plt.rc('axes', labelweight='bold', labelsize='large',\n",
    "       titleweight='bold', titlesize=18, titlepad=10)\n",
    "plt.rc('image', cmap='magma')\n",
    "\n",
    "\n",
    "\n",
    "# Load training and validation sets\n",
    "ds_train_ = tf.keras.preprocessing.image_dataset_from_directory(\n",
    "    './car_truck/train',\n",
    "    labels='inferred',\n",
    "    label_mode='binary',\n",
    "    image_size=[128, 128],\n",
    "    interpolation='nearest',\n",
    "    batch_size=64,\n",
    "    shuffle=True,\n",
    ")\n",
    "ds_valid_ = tf.keras.preprocessing.image_dataset_from_directory(\n",
    "    './car_truck/valid',\n",
    "    labels='inferred',\n",
    "    label_mode='binary',\n",
    "    image_size=[128, 128],\n",
    "    interpolation='nearest',\n",
    "    batch_size=64,\n",
    "    shuffle=False,\n",
    ")\n",
    "\n",
    "# Data Pipeline\n",
    "def convert_to_float(image, label):\n",
    "    image = tf.image.convert_image_dtype(image, dtype=tf.float32)\n",
    "    return image, label\n",
    "\n",
    "AUTOTUNE = tf.data.experimental.AUTOTUNE\n",
    "ds_train = (\n",
    "    ds_train_\n",
    "    .map(convert_to_float)\n",
    "    .cache()\n",
    "    .prefetch(buffer_size=AUTOTUNE)\n",
    ")\n",
    "ds_valid = (\n",
    "    ds_valid_\n",
    "    .map(convert_to_float)\n",
    "    .cache()\n",
    "    .prefetch(buffer_size=AUTOTUNE)\n",
    ")"
   ],
   "outputs": [
    {
     "output_type": "stream",
     "name": "stdout",
     "text": [
      "Found 2000 files belonging to 2 classes.\n",
      "Found 1909 files belonging to 2 classes.\n"
     ]
    }
   ],
   "metadata": {}
  },
  {
   "cell_type": "markdown",
   "source": [
    "Load Pretrained Base"
   ],
   "metadata": {}
  },
  {
   "cell_type": "code",
   "execution_count": 26,
   "source": [
    "pretrained_base = tf.keras.applications.VGG16(\n",
    "    include_top=False,\n",
    "    weights=\"imagenet\",\n",
    "    input_tensor=None,\n",
    "    input_shape=[128,128,3],\n",
    "    pooling=None,\n",
    "    classes=1000,\n",
    "    classifier_activation=\"softmax\",\n",
    ")\n",
    "pretrained_base.trainable = False"
   ],
   "outputs": [],
   "metadata": {}
  },
  {
   "cell_type": "markdown",
   "source": [
    "Early Stopping"
   ],
   "metadata": {}
  },
  {
   "cell_type": "code",
   "execution_count": 35,
   "source": [
    "from tensorflow.keras.callbacks import EarlyStopping\n",
    "\n",
    "early_stopping = EarlyStopping(\n",
    "    min_delta=0.001, # minimium amount of change to count as an improvement\n",
    "    patience=5, # how many epochs to wait before stopping\n",
    "    restore_best_weights=True,\n",
    ")"
   ],
   "outputs": [],
   "metadata": {}
  },
  {
   "cell_type": "markdown",
   "source": [
    "Attach Head"
   ],
   "metadata": {}
  },
  {
   "cell_type": "code",
   "execution_count": 32,
   "source": [
    "\n",
    "\n",
    "\n",
    "\n",
    "# Pretrained base model\n",
    "\n",
    "# model = keras.Sequential([\n",
    "#     pretrained_base,\n",
    "#     layers.Flatten(),\n",
    "#     layers.Dense(6, activation='relu'),\n",
    "#     layers.Dense(1, activation='sigmoid'),\n",
    "# ])\n",
    "\n",
    "# Custom base  0.720796 val_binary_accuracy\n",
    "\n",
    "model = keras.Sequential([\n",
    "\n",
    "    # First Convolutional Block\n",
    "    layers.Conv2D(filters=32, kernel_size=5, activation=\"relu\", padding='same',\n",
    "                  # give the input dimensions in the first layer\n",
    "                  # [height, width, color channels(RGB)]\n",
    "                  input_shape=[128, 128, 3]),\n",
    "    layers.MaxPool2D(),\n",
    "\n",
    "    # Second Convolutional Block\n",
    "    layers.Conv2D(filters=64, kernel_size=3, activation=\"relu\", padding='same'),\n",
    "    layers.MaxPool2D(),\n",
    "\n",
    "    # Third Convolutional Block\n",
    "    layers.Conv2D(filters=128, kernel_size=3, activation=\"relu\", padding='same'),\n",
    "    layers.MaxPool2D(),\n",
    "\n",
    "    #Fourth Convolutional Block\n",
    "    layers.Conv2D(filters=256, kernel_size=3, activation=\"relu\", padding='same'),\n",
    "    layers.MaxPool2D(),\n",
    "\n",
    "    # Classifier Head\n",
    "    layers.Flatten(),\n",
    "    layers.Dense(units=6, activation=\"relu\"),\n",
    "    layers.Dense(units=1, activation=\"sigmoid\"),\n",
    "])\n",
    "model.summary()"
   ],
   "outputs": [
    {
     "output_type": "stream",
     "name": "stdout",
     "text": [
      "Model: \"sequential_7\"\n",
      "_________________________________________________________________\n",
      "Layer (type)                 Output Shape              Param #   \n",
      "=================================================================\n",
      "conv2d_20 (Conv2D)           (None, 128, 128, 32)      2432      \n",
      "_________________________________________________________________\n",
      "max_pooling2d_20 (MaxPooling (None, 64, 64, 32)        0         \n",
      "_________________________________________________________________\n",
      "conv2d_21 (Conv2D)           (None, 64, 64, 64)        18496     \n",
      "_________________________________________________________________\n",
      "max_pooling2d_21 (MaxPooling (None, 32, 32, 64)        0         \n",
      "_________________________________________________________________\n",
      "conv2d_22 (Conv2D)           (None, 32, 32, 128)       73856     \n",
      "_________________________________________________________________\n",
      "max_pooling2d_22 (MaxPooling (None, 16, 16, 128)       0         \n",
      "_________________________________________________________________\n",
      "conv2d_23 (Conv2D)           (None, 16, 16, 256)       295168    \n",
      "_________________________________________________________________\n",
      "max_pooling2d_23 (MaxPooling (None, 8, 8, 256)         0         \n",
      "_________________________________________________________________\n",
      "flatten_7 (Flatten)          (None, 16384)             0         \n",
      "_________________________________________________________________\n",
      "dense_14 (Dense)             (None, 6)                 98310     \n",
      "_________________________________________________________________\n",
      "dense_15 (Dense)             (None, 1)                 7         \n",
      "=================================================================\n",
      "Total params: 488,269\n",
      "Trainable params: 488,269\n",
      "Non-trainable params: 0\n",
      "_________________________________________________________________\n"
     ]
    }
   ],
   "metadata": {}
  },
  {
   "cell_type": "markdown",
   "source": [
    "Train"
   ],
   "metadata": {}
  },
  {
   "cell_type": "code",
   "execution_count": 33,
   "source": [
    "model.compile(\n",
    "    optimizer='adam',\n",
    "    loss='binary_crossentropy',\n",
    "    metrics=['binary_accuracy'],\n",
    ")\n",
    "\n",
    "history = model.fit(\n",
    "    ds_train,\n",
    "    validation_data=ds_valid,\n",
    "    epochs=50,\n",
    "    callbacks=[early_stopping], \n",
    "    verbose=1,\n",
    ")"
   ],
   "outputs": [
    {
     "output_type": "stream",
     "name": "stdout",
     "text": [
      "Epoch 1/30\n",
      "32/32 [==============================] - 28s 876ms/step - loss: 0.6782 - binary_accuracy: 0.5750 - val_loss: 0.6767 - val_binary_accuracy: 0.5972\n",
      "Epoch 2/30\n",
      "32/32 [==============================] - 28s 865ms/step - loss: 0.6628 - binary_accuracy: 0.6120 - val_loss: 0.6642 - val_binary_accuracy: 0.6197\n",
      "Epoch 3/30\n",
      "32/32 [==============================] - 28s 875ms/step - loss: 0.6410 - binary_accuracy: 0.6290 - val_loss: 0.6353 - val_binary_accuracy: 0.6412\n",
      "Epoch 4/30\n",
      "32/32 [==============================] - 28s 886ms/step - loss: 0.6370 - binary_accuracy: 0.6395 - val_loss: 0.6428 - val_binary_accuracy: 0.6469\n",
      "Epoch 5/30\n",
      "32/32 [==============================] - 28s 879ms/step - loss: 0.6075 - binary_accuracy: 0.6825 - val_loss: 0.6175 - val_binary_accuracy: 0.6595\n",
      "Epoch 6/30\n",
      "32/32 [==============================] - 28s 880ms/step - loss: 0.5731 - binary_accuracy: 0.7010 - val_loss: 0.5809 - val_binary_accuracy: 0.6862\n",
      "Epoch 7/30\n",
      "32/32 [==============================] - 28s 874ms/step - loss: 0.5361 - binary_accuracy: 0.7345 - val_loss: 0.5592 - val_binary_accuracy: 0.7072\n",
      "Epoch 8/30\n",
      "32/32 [==============================] - 28s 879ms/step - loss: 0.4992 - binary_accuracy: 0.7520 - val_loss: 0.5474 - val_binary_accuracy: 0.7250\n",
      "Epoch 9/30\n",
      "32/32 [==============================] - 28s 883ms/step - loss: 0.4472 - binary_accuracy: 0.7900 - val_loss: 0.5303 - val_binary_accuracy: 0.7376\n",
      "Epoch 10/30\n",
      "32/32 [==============================] - 28s 884ms/step - loss: 0.3810 - binary_accuracy: 0.8325 - val_loss: 0.5180 - val_binary_accuracy: 0.7674\n",
      "Epoch 11/30\n",
      "32/32 [==============================] - 28s 883ms/step - loss: 0.3329 - binary_accuracy: 0.8560 - val_loss: 0.4484 - val_binary_accuracy: 0.7847\n",
      "Epoch 12/30\n",
      "32/32 [==============================] - 28s 877ms/step - loss: 0.2492 - binary_accuracy: 0.8995 - val_loss: 0.4707 - val_binary_accuracy: 0.7910\n",
      "Epoch 13/30\n",
      "32/32 [==============================] - 28s 880ms/step - loss: 0.1809 - binary_accuracy: 0.9310 - val_loss: 0.5385 - val_binary_accuracy: 0.7858\n",
      "Epoch 14/30\n",
      "32/32 [==============================] - 28s 883ms/step - loss: 0.1542 - binary_accuracy: 0.9430 - val_loss: 0.5539 - val_binary_accuracy: 0.8041\n",
      "Epoch 15/30\n",
      "32/32 [==============================] - 28s 882ms/step - loss: 0.1415 - binary_accuracy: 0.9430 - val_loss: 1.0134 - val_binary_accuracy: 0.7313\n",
      "Epoch 16/30\n",
      "32/32 [==============================] - 28s 882ms/step - loss: 0.1318 - binary_accuracy: 0.9510 - val_loss: 0.6596 - val_binary_accuracy: 0.7653\n",
      "Epoch 17/30\n",
      "32/32 [==============================] - 28s 882ms/step - loss: 0.0983 - binary_accuracy: 0.9645 - val_loss: 0.5485 - val_binary_accuracy: 0.8093\n",
      "Epoch 18/30\n",
      "32/32 [==============================] - 28s 879ms/step - loss: 0.1003 - binary_accuracy: 0.9595 - val_loss: 0.5392 - val_binary_accuracy: 0.8041\n",
      "Epoch 19/30\n",
      "32/32 [==============================] - 28s 874ms/step - loss: 0.0442 - binary_accuracy: 0.9880 - val_loss: 0.6910 - val_binary_accuracy: 0.8062\n",
      "Epoch 20/30\n",
      "32/32 [==============================] - 28s 878ms/step - loss: 0.0249 - binary_accuracy: 0.9925 - val_loss: 0.7487 - val_binary_accuracy: 0.8119\n",
      "Epoch 21/30\n",
      "32/32 [==============================] - 28s 880ms/step - loss: 0.0260 - binary_accuracy: 0.9935 - val_loss: 0.9921 - val_binary_accuracy: 0.7868\n",
      "Epoch 22/30\n",
      "32/32 [==============================] - 29s 900ms/step - loss: 0.0200 - binary_accuracy: 0.9950 - val_loss: 0.9040 - val_binary_accuracy: 0.7947\n",
      "Epoch 23/30\n",
      "32/32 [==============================] - 31s 961ms/step - loss: 0.0200 - binary_accuracy: 0.9935 - val_loss: 0.7524 - val_binary_accuracy: 0.8114\n",
      "Epoch 24/30\n",
      "32/32 [==============================] - 30s 956ms/step - loss: 0.0145 - binary_accuracy: 0.9975 - val_loss: 0.7507 - val_binary_accuracy: 0.8020\n",
      "Epoch 25/30\n",
      "32/32 [==============================] - 30s 955ms/step - loss: 0.0279 - binary_accuracy: 0.9905 - val_loss: 0.9578 - val_binary_accuracy: 0.7842\n",
      "Epoch 26/30\n",
      "32/32 [==============================] - 31s 958ms/step - loss: 0.0172 - binary_accuracy: 0.9960 - val_loss: 0.7997 - val_binary_accuracy: 0.8109\n",
      "Epoch 27/30\n",
      "32/32 [==============================] - 30s 954ms/step - loss: 0.0193 - binary_accuracy: 0.9935 - val_loss: 0.9252 - val_binary_accuracy: 0.7936\n",
      "Epoch 28/30\n",
      "32/32 [==============================] - 30s 955ms/step - loss: 0.0211 - binary_accuracy: 0.9935 - val_loss: 0.9198 - val_binary_accuracy: 0.7899\n",
      "Epoch 29/30\n",
      "32/32 [==============================] - 30s 953ms/step - loss: 0.0354 - binary_accuracy: 0.9875 - val_loss: 0.8557 - val_binary_accuracy: 0.8030\n",
      "Epoch 30/30\n",
      "32/32 [==============================] - 30s 952ms/step - loss: 0.0230 - binary_accuracy: 0.9910 - val_loss: 1.4587 - val_binary_accuracy: 0.7397\n"
     ]
    }
   ],
   "metadata": {}
  },
  {
   "cell_type": "code",
   "execution_count": 29,
   "source": [
    "import pandas as pd\n",
    "\n",
    "history_frame = pd.DataFrame(history.history)\n",
    "history_frame.loc[:, ['loss', 'val_loss']].plot()\n",
    "history_frame.loc[:, ['binary_accuracy', 'val_binary_accuracy']].plot();\n",
    "print(history_frame.val_binary_accuracy)\n"
   ],
   "outputs": [
    {
     "output_type": "stream",
     "name": "stdout",
     "text": [
      "0     0.563122\n",
      "1     0.563122\n",
      "2     0.563122\n",
      "3     0.563122\n",
      "4     0.563122\n",
      "5     0.563122\n",
      "6     0.563122\n",
      "7     0.563122\n",
      "8     0.563122\n",
      "9     0.563122\n",
      "10    0.563122\n",
      "11    0.563122\n",
      "12    0.563122\n",
      "13    0.563122\n",
      "14    0.563122\n",
      "15    0.563122\n",
      "16    0.563122\n",
      "17    0.563122\n",
      "18    0.563122\n",
      "19    0.563122\n",
      "20    0.563122\n",
      "21    0.563122\n",
      "22    0.563122\n",
      "23    0.563122\n",
      "24    0.563122\n",
      "25    0.563122\n",
      "26    0.563122\n",
      "27    0.563122\n",
      "28    0.563122\n",
      "29    0.563122\n",
      "Name: val_binary_accuracy, dtype: float64\n"
     ]
    },
    {
     "output_type": "display_data",
     "data": {
      "image/png": "[encoded data removed]",
      "text/plain": [
       "<Figure size 432x288 with 1 Axes>"
      ]
     },
     "metadata": {
      "needs_background": "light"
     }
    },
    {
     "output_type": "display_data",
     "data": {
      "image/png": "[encoded data removed]",
      "text/plain": [
       "<Figure size 432x288 with 1 Axes>"
      ]
     },
     "metadata": {
      "needs_background": "light"
     }
    }
   ],
   "metadata": {}
  }
 ],
 "metadata": {
  "orig_nbformat": 4,
  "language_info": {
   "name": "python",
   "version": "3.7.11",
   "mimetype": "text/x-python",
   "codemirror_mode": {
    "name": "ipython",
    "version": 3
   },
   "pygments_lexer": "ipython3",
   "nbconvert_exporter": "python",
   "file_extension": ".py"
  },
  "kernelspec": {
   "name": "python3",
   "display_name": "Python 3.7.11 64-bit ('myenv': conda)"
  },
  "interpreter": {
   "hash": "f5c9dfabb21bd2a91b63810df81acbdc6b5e617e45414f0ef050ca96090c868f"
  }
 },
 "nbformat": 4,
 "nbformat_minor": 2
}